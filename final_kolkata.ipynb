{
 "cells": [
  {
   "cell_type": "code",
   "execution_count": 1,
   "id": "f2e0c84c",
   "metadata": {
    "scrolled": true
   },
   "outputs": [
    {
     "name": "stdout",
     "output_type": "stream",
     "text": [
      "\n",
      "Features after keeping needed features\n",
      "\n",
      "Index(['Price', 'Area', 'Location', 'No. of Bedrooms', 'Resale',\n",
      "       'MaintenanceStaff', 'Gymnasium', 'SwimmingPool', 'LandscapedGardens',\n",
      "       'JoggingTrack', 'RainWaterHarvesting', 'IndoorGames', 'ShoppingMall',\n",
      "       'Intercom', 'SportsFacility', 'ATM', 'ClubHouse', 'School',\n",
      "       '24X7Security', 'PowerBackup', 'CarParking', 'StaffQuarter',\n",
      "       'Cafeteria', 'MultipurposeRoom', 'Hospital', 'WashingMachine',\n",
      "       'Gasconnection', 'AC', 'Wifi', 'Children'splayarea', 'LiftAvailable',\n",
      "       'BED', 'VaastuCompliant', 'Microwave', 'GolfCourse', 'TV',\n",
      "       'DiningTable', 'Sofa', 'Wardrobe', 'Refrigerator'],\n",
      "      dtype='object')\n",
      "\n",
      "First 5 rows of New data frame after keeping needed features \n",
      "\n",
      "     Price       Area     Location  No. of Bedrooms  Resale  MaintenanceStaff  \\\n",
      "0  2235000       1016      Barasat              3.0       0                 0   \n",
      "1  3665999  1000-1111    Keshtopur              2.0       0                 1   \n",
      "2  3774000       1020     Rajarhat              2.0       0                 0   \n",
      "3  2524000        935  Narendrapur              NaN       0                 0   \n",
      "4  8300000       1956     New Town              3.0       1                 0   \n",
      "5  3761000       1179         Joka              NaN       0                 0   \n",
      "\n",
      "   Gymnasium  SwimmingPool  LandscapedGardens  JoggingTrack  ...  \\\n",
      "0          1             1                  1             1  ...   \n",
      "1          1             0                  1             1  ...   \n",
      "2          1             0                  0             0  ...   \n",
      "3          1             1                  1             1  ...   \n",
      "4          1             1                  1             1  ...   \n",
      "5          1             0                  1             0  ...   \n",
      "\n",
      "   LiftAvailable  BED  VaastuCompliant  Microwave  GolfCourse  TV  \\\n",
      "0              1    0                0          0           0   0   \n",
      "1              0    0                0          0           0   0   \n",
      "2              1    0                0          0           0   0   \n",
      "3              0    0                0          0           0   0   \n",
      "4              1    0                1          0           0   0   \n",
      "5              1    0                0          0           0   0   \n",
      "\n",
      "   DiningTable  Sofa  Wardrobe  Refrigerator  \n",
      "0            0     0         0             0  \n",
      "1            0     0         0             0  \n",
      "2            0     0         0             0  \n",
      "3            0     0         0             0  \n",
      "4            0     0         0             0  \n",
      "5            0     0         0             0  \n",
      "\n",
      "[6 rows x 40 columns]\n"
     ]
    }
   ],
   "source": [
    "import pandas as pd \n",
    "import numpy as np \n",
    "import matplotlib.pyplot as plt \n",
    "\n",
    "%matplotlib inline\n",
    "\n",
    "df = pd.read_csv('Kolkata.csv')\n",
    "\n",
    "def reducer(val):\n",
    "    return 0 if val == 0 else 1 \n",
    "\n",
    "excludeThis = [\"Area\" , \"Price\" , \"No. of Bedrooms\" , \"Location\"]\n",
    "for key in df.keys():\n",
    "    if key not in excludeThis : \n",
    "        df[key] = df[key].apply(reducer)\n",
    "\n",
    "\n",
    "print(\"\\nFeatures after keeping needed features\\n\")\n",
    "picked_keys = df.keys()\n",
    "print(picked_keys)\n",
    "\n",
    "\n",
    "print(\"\\nFirst 5 rows of New data frame after keeping needed features \\n\")\n",
    "print(df.head(6))\n",
    "\n"
   ]
  },
  {
   "cell_type": "code",
   "execution_count": 2,
   "id": "cb628198",
   "metadata": {},
   "outputs": [
    {
     "name": "stdout",
     "output_type": "stream",
     "text": [
      "     Price    Area   Location  No. of Bedrooms  Resale  MaintenanceStaff  \\\n",
      "0  2235000  1016.0    Barasat              3.0       0                 0   \n",
      "1  3665999  1055.5  Keshtopur              2.0       0                 1   \n",
      "2  3774000  1020.0   Rajarhat              2.0       0                 0   \n",
      "4  8300000  1956.0   New Town              3.0       1                 0   \n",
      "6  9727000  1107.0     Tangra              3.0       0                 0   \n",
      "\n",
      "   Gymnasium  SwimmingPool  LandscapedGardens  JoggingTrack  ...  BED  \\\n",
      "0          1             1                  1             1  ...    0   \n",
      "1          1             0                  1             1  ...    0   \n",
      "2          1             0                  0             0  ...    0   \n",
      "4          1             1                  1             1  ...    0   \n",
      "6          1             1                  1             1  ...    0   \n",
      "\n",
      "   VaastuCompliant  Microwave  GolfCourse  TV  DiningTable  Sofa  Wardrobe  \\\n",
      "0                0          0           0   0            0     0         0   \n",
      "1                0          0           0   0            0     0         0   \n",
      "2                0          0           0   0            0     0         0   \n",
      "4                1          0           0   0            0     0         0   \n",
      "6                0          0           0   0            0     0         0   \n",
      "\n",
      "   Refrigerator          pps  \n",
      "0             0  2199.803150  \n",
      "1             0  3473.234486  \n",
      "2             0  3700.000000  \n",
      "4             0  4243.353783  \n",
      "6             0  8786.811201  \n",
      "\n",
      "[5 rows x 41 columns]\n"
     ]
    },
    {
     "data": {
      "text/plain": [
       "(6505, 41)"
      ]
     },
     "execution_count": 2,
     "metadata": {},
     "output_type": "execute_result"
    }
   ],
   "source": [
    "def format_area(area):\n",
    "    parameter_type = type(area)\n",
    "    if parameter_type == type(1.0) or parameter_type == type(1) : return area\n",
    "    \n",
    "    token = area.split(\"-\")\n",
    "    if len(token) == 1 :\n",
    "        return area \n",
    "    else:\n",
    "        return (float(token[0]) + float(token[1])) / 2\n",
    "\n",
    "    \n",
    "df[\"Area\"] = df[\"Area\"].apply(format_area)\n",
    "df[\"Area\"] = df[\"Area\"].apply(lambda x : float(x))\n",
    "\n",
    "df = df.dropna()\n",
    "\n",
    "\n",
    "df[\"pps\"] = df['Price'] / df[\"Area\"]\n",
    "print(df.head())\n",
    "df.shape\n",
    "\n"
   ]
  },
  {
   "cell_type": "code",
   "execution_count": 3,
   "id": "8a4d9d1e",
   "metadata": {
    "scrolled": true
   },
   "outputs": [
    {
     "data": {
      "text/plain": [
       "<matplotlib.collections.PathCollection at 0x2082f7818b0>"
      ]
     },
     "execution_count": 3,
     "metadata": {},
     "output_type": "execute_result"
    },
    {
     "data": {
      "image/png": "[encoded data removed]",
      "text/plain": [
       "<Figure size 432x288 with 1 Axes>"
      ]
     },
     "metadata": {
      "needs_background": "light"
     },
     "output_type": "display_data"
    }
   ],
   "source": [
    "\n",
    "def remv_pps_outliers2_stdDev(df):\n",
    "    new_df = pd.DataFrame()\n",
    "    for key, subdf in df.groupby('Location'):\n",
    "        m = np.mean(subdf.pps)\n",
    "        st = np.std(subdf.pps)\n",
    "        reduced_df = subdf[(subdf.pps>(m-st)) & (subdf.pps<=(m+st))]\n",
    "        new_df = pd.concat([new_df,reduced_df],ignore_index=True)\n",
    "    return new_df\n",
    "\n",
    "\n",
    "def remv_pps_outliers_logic(df):\n",
    "    df_res = pd.DataFrame()\n",
    "    new_df = df[(df.pps >= 2000) & (df.pps <= 20000)]\n",
    "    df_res = pd.concat([df_res , new_df] , ignore_index = True)\n",
    "\n",
    "    return df_res\n",
    "\n",
    "\n",
    "df2 = remv_pps_outliers_logic(df)\n",
    "df4 = remv_pps_outliers2_stdDev(df2)\n",
    "\n",
    "plt.xlabel(\" Price\")\n",
    "plt.ylabel(\" Area \")\n",
    "plt.scatter(df4[\"Price\"][:100] , df4[\"Area\"][:100] , color='black' ,  marker ='o')\n"
   ]
  },
  {
   "cell_type": "code",
   "execution_count": 4,
   "id": "791b2e08",
   "metadata": {
    "scrolled": true
   },
   "outputs": [
    {
     "data": {
      "text/plain": [
       "count     4255.000000\n",
       "mean      4817.351230\n",
       "std       2224.287941\n",
       "min       2000.000000\n",
       "25%       3270.904032\n",
       "50%       4335.398230\n",
       "75%       5782.683313\n",
       "max      19500.000000\n",
       "Name: pps, dtype: float64"
      ]
     },
     "execution_count": 4,
     "metadata": {},
     "output_type": "execute_result"
    }
   ],
   "source": [
    "df4.pps.describe()"
   ]
  },
  {
   "cell_type": "code",
   "execution_count": 5,
   "id": "ec9b8788",
   "metadata": {
    "scrolled": true
   },
   "outputs": [
    {
     "name": "stdout",
     "output_type": "stream",
     "text": [
      "Location\n",
      "Action Area I             1\n",
      "Action Area I Newtown     4\n",
      "Action Area II Newtown    1\n",
      "Action Area III           2\n",
      "Airport                   6\n",
      "                         ..\n",
      "purbalok                  1\n",
      "raghunathpur              1\n",
      "salt lake sec iii         1\n",
      "shalimar                  3\n",
      "south dum dum             8\n",
      "Name: Location, Length: 206, dtype: int64\n",
      "Entries with <= threshold data points  251\n",
      "New number of unique Locations After grouping :  91\n"
     ]
    }
   ],
   "source": [
    "\n",
    "location_counts = df4.groupby('Location')['Location'].agg('count')\n",
    "print(location_counts)\n",
    "\n",
    "\n",
    "print(\"Entries with <= threshold data points \",sum(location_counts[location_counts <= 5]))\n",
    "rename_as_others = location_counts[location_counts  <= 5]\n",
    "df4.Location = df4.Location.apply(lambda x : \"others\" if x in rename_as_others else x)\n",
    "\n",
    "print(\"New number of unique Locations After grouping : \",len(df4.Location.unique()))\n"
   ]
  },
  {
   "cell_type": "code",
   "execution_count": 6,
   "id": "c6abacba",
   "metadata": {
    "scrolled": true
   },
   "outputs": [
    {
     "name": "stdout",
     "output_type": "stream",
     "text": [
      "   Airport  Alipore  Anandapur  Ashok Nagar  Baguiati  Ballygunge  Bangur  \\\n",
      "0        0        0          0            0         0           0       0   \n",
      "1        0        0          0            0         0           0       0   \n",
      "2        0        0          0            0         0           0       0   \n",
      "\n",
      "   Bansdroni  Baranagar  Barasat  ...  LiftAvailable  BED  VaastuCompliant  \\\n",
      "0          0          0        0  ...              1    1                1   \n",
      "1          0          0        0  ...              1    1                1   \n",
      "2          0          0        0  ...              1    1                1   \n",
      "\n",
      "   Microwave  GolfCourse  TV  DiningTable  Sofa  Wardrobe  Refrigerator  \n",
      "0          1           1   1            1     1         1             1  \n",
      "1          1           1   1            1     1         1             1  \n",
      "2          1           1   1            1     1         1             1  \n",
      "\n",
      "[3 rows x 130 columns]\n",
      "Accuracy Score  0.9229556642833269  percentage  92.29556642833269 % \n"
     ]
    }
   ],
   "source": [
    "dummy_locations = pd.get_dummies(df4.Location)\n",
    "\n",
    "df_temp = df4.drop(labels = [\"Location\" , \"pps\"] , axis = 'columns')\n",
    "final_df = pd.concat([dummy_locations , df_temp] , axis = \"columns\")\n",
    "\n",
    "print(final_df.head(3))\n",
    "\n",
    "x = final_df.drop(labels = \"Price\" , axis = 'columns')\n",
    "y = final_df[\"Price\"]\n",
    "\n",
    "# y = c + m1x1 + m2x2 .... \n",
    "\n",
    "from sklearn.model_selection import train_test_split\n",
    "from sklearn.linear_model import LinearRegression\n",
    "\n",
    "\n",
    "x_train, x_test, y_train, y_test = train_test_split(\n",
    "x, y, test_size=0.33, random_state=42)\n",
    "\n",
    "\n",
    "model = LinearRegression()\n",
    "model.fit(x_train , y_train)\n",
    "\n",
    "y_predicted = model.predict(x_test) \n",
    "\n",
    "\n",
    "sc = model.score(x_test , y_test) \n",
    "\n",
    "\n",
    "print(\"Accuracy Score \", sc , \" percentage \" , sc*100 , \"% \")\n",
    "\n",
    "\n",
    "\n"
   ]
  },
  {
   "cell_type": "raw",
   "id": "432fb163",
   "metadata": {},
   "source": []
  },
  {
   "cell_type": "code",
   "execution_count": 7,
   "id": "a1fefc73",
   "metadata": {},
   "outputs": [
    {
     "name": "stdout",
     "output_type": "stream",
     "text": [
      "total Entries  4255\n",
      "Index(['Airport', 'Alipore', 'Anandapur', 'Ashok Nagar', 'Baguiati',\n",
      "       'Ballygunge', 'Bangur', 'Bansdroni', 'Baranagar', 'Barasat',\n",
      "       ...\n",
      "       'LiftAvailable', 'BED', 'VaastuCompliant', 'Microwave', 'GolfCourse',\n",
      "       'TV', 'DiningTable', 'Sofa', 'Wardrobe', 'Refrigerator'],\n",
      "      dtype='object', length=129)\n"
     ]
    }
   ],
   "source": [
    "print(\"total Entries \",len(final_df))\n",
    "print(x_train.keys())\n"
   ]
  },
  {
   "cell_type": "code",
   "execution_count": 8,
   "id": "8c48dcb6",
   "metadata": {
    "scrolled": false
   },
   "outputs": [
    {
     "name": "stdout",
     "output_type": "stream",
     "text": [
      "     Airport  Alipore  Anandapur  Ashok Nagar  Baguiati  Ballygunge  Bangur  \\\n",
      "998        0        0          0            0         0           0       0   \n",
      "\n",
      "     Bansdroni  Baranagar  Barasat  ...  LiftAvailable  BED  VaastuCompliant  \\\n",
      "998          0          0        0  ...              1    1                1   \n",
      "\n",
      "     Microwave  GolfCourse  TV  DiningTable  Sofa  Wardrobe  Refrigerator  \n",
      "998          1           1   1            1     1         1             1  \n",
      "\n",
      "[1 rows x 130 columns]  Actual price  70.3  lakhs \n",
      "Estimated price   72.68373569210563  lakhs \n"
     ]
    }
   ],
   "source": [
    "\n",
    "def predict(d):\n",
    "    x = [0]*len(x_train.columns)\n",
    " \n",
    "    for key in d.keys():\n",
    "        if key == \"Price\" or key == 'pps': continue \n",
    "            \n",
    "        index = x_train.columns.get_loc(key if key != \"Location\" else d[key])\n",
    "        if key == \"Location\" : \n",
    "            x[index] = 1  \n",
    "        else :\n",
    "            x[index] = d[key]\n",
    "    \n",
    "    return model.predict([x])[0]\n",
    " \n",
    "    \n",
    "    \n",
    "\n",
    "record = final_df[998:999]\n",
    "\n",
    "\n",
    "print(record , \" Actual price \" , record[\"Price\"].values[0] / 100000 , \" lakhs \")\n",
    "\n",
    "\n",
    "d = {}\n",
    "for col in record:\n",
    "    val =  record[col].values[0]\n",
    "    d[col] = val \n",
    "    \n",
    "\n",
    "ans = predict(d) \n",
    "print(\"Estimated price  \" , ans / 100000 , \" lakhs \")\n",
    "\n",
    "\n"
   ]
  },
  {
   "cell_type": "code",
   "execution_count": null,
   "id": "77cbd566",
   "metadata": {},
   "outputs": [],
   "source": []
  },
  {
   "cell_type": "code",
   "execution_count": null,
   "id": "352228d8",
   "metadata": {},
   "outputs": [],
   "source": []
  },
  {
   "cell_type": "code",
   "execution_count": null,
   "id": "69fe364c",
   "metadata": {},
   "outputs": [],
   "source": []
  }
 ],
 "metadata": {
  "kernelspec": {
   "display_name": "Python 3",
   "language": "python",
   "name": "python3"
  },
  "language_info": {
   "codemirror_mode": {
    "name": "ipython",
    "version": 3
   },
   "file_extension": ".py",
   "mimetype": "text/x-python",
   "name": "python",
   "nbconvert_exporter": "python",
   "pygments_lexer": "ipython3",
   "version": "3.9.5"
  }
 },
 "nbformat": 4,
 "nbformat_minor": 5
}
